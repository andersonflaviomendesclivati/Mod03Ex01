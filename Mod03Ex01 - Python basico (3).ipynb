{
 "cells": [
  {
   "cell_type": "markdown",
   "metadata": {},
   "source": [
    "### 01 - Teste de gravidez\n",
    "Escreva uma célula com controle de fluxos que tem como premissa a existência das seguintes variáveis:\n",
    "\n",
    "- ```sexo``` como ```str``` indicando os valores '**M**' para masculino e '**F**' para feminino  \n",
    "- ```beta_hcg``` que indica a quantidade do beta-HCG no sangue em mUI/mL.\n",
    "\n",
    "A sua tarefa é escrever um código que imprima como resultado \"indivíduo do sexo masculino\" quando sexo = 'M', caso sexo = 'F', se o valor de beta-HCG for maior que 5, retorne \"Positivo\" indicando que a paciente está grávida, e retorne \"Negativo\" caso contrário.\n",
    "\n",
    "Não mexa nos valores da variável ```sexo``` nem em ```beta_hcg```, e escreva um código que funcione para quaisquer valores possíveis de ambos: ```sexo``` = '**M**' ou '**F**' e ```beta_hcg``` assumindo valores inteiros positivos."
   ]
  },
  {
   "cell_type": "code",
   "execution_count": 1,
   "metadata": {},
   "outputs": [
    {
     "name": "stdout",
     "output_type": "stream",
     "text": [
      "Informe o seu sexo: M\n",
      "Indivíduo do sexo masculino\n"
     ]
    }
   ],
   "source": [
    "sexo = 'M'\n",
    "beta_hcg = 0\n",
    "\n",
    "# seu código vem abaixo desta linha\n",
    "sexo = str(input('Informe o seu sexo: '))\n",
    "\n",
    "if sexo == 'M':\n",
    "    print('Indivíduo do sexo masculino')"
   ]
  },
  {
   "cell_type": "code",
   "execution_count": 2,
   "metadata": {},
   "outputs": [
    {
     "name": "stdout",
     "output_type": "stream",
     "text": [
      "Informe o seu sexo: F\n",
      "Informe o valor do beta_hcg: 0\n",
      "Negativo\n"
     ]
    }
   ],
   "source": [
    "sexo = 'F'\n",
    "beta_hcg = 0\n",
    "\n",
    "sexo = str(input('Informe o seu sexo: '))  \n",
    "beta_hcg = int(input('Informe o valor do beta_hcg: '))\n",
    "    \n",
    "if sexo == 'M':\n",
    "    print('Individuo do sexo masculino')\n",
    "    \n",
    "elif sexo == 'F':\n",
    "\n",
    "    if beta_hcg <= 5:\n",
    "        print('Negativo')\n",
    "    else:\n",
    "        print('Positivo')"
   ]
  },
  {
   "cell_type": "code",
   "execution_count": 3,
   "metadata": {},
   "outputs": [
    {
     "name": "stdout",
     "output_type": "stream",
     "text": [
      "Informe o seu sexo: F\n",
      "Informe o valor do beta_hcg: 6\n",
      "Positivo\n"
     ]
    }
   ],
   "source": [
    "sexo = 'F'\n",
    "beta_hcg = 6\n",
    "\n",
    "sexo = str(input('Informe o seu sexo: '))  \n",
    "beta_hcg = int(input('Informe o valor do beta_hcg: '))\n",
    "    \n",
    "if sexo == 'M':\n",
    "    print('Individuo do sexo masculino')\n",
    "    \n",
    "elif sexo == 'F':\n",
    "\n",
    "    if beta_hcg > 5:\n",
    "        print('Positivo')\n",
    "    else:\n",
    "        print('Negativo')"
   ]
  },
  {
   "cell_type": "code",
   "execution_count": 4,
   "metadata": {},
   "outputs": [
    {
     "name": "stdout",
     "output_type": "stream",
     "text": [
      "Informe o seu sexo: M\n",
      "Informe o valor do beta_hcg: 0\n",
      "Individuo do sexo masculino\n"
     ]
    }
   ],
   "source": [
    "sexo = 'M'\n",
    "beta_hcg = 0\n",
    "\n",
    "sexo = str(input('Informe o seu sexo: '))  \n",
    "beta_hcg = int(input('Informe o valor do beta_hcg: '))\n",
    "    \n",
    "if sexo == 'M':\n",
    "    print('Individuo do sexo masculino')\n",
    "    \n",
    "elif sexo == 'F':\n",
    "\n",
    "    if beta_hcg > 5:\n",
    "        print('Positivo')\n",
    "    else:\n",
    "        print('Negativo')"
   ]
  },
  {
   "cell_type": "markdown",
   "metadata": {},
   "source": [
    "### 02 - Renomeando variáveis\n",
    "\n",
    "Vamos ver adiante que uma forma de renomear variáveis de um conjunto de dados é através de dicionários - o dicionário deve conter como chave o nome original, associando a cada chave um único valor (tipo *str*) que contenha o nome novo.\n",
    "\n",
    "A sua tarefa é escrever um dicionário que possa ser utilizado para traduzir as variáveis ```name``` (nome), ```age``` (idade) e ```income``` (renda). Ou seja, esse dicionário deve relacionar as chaves *name, age* e *income* às suas respectivas traduções."
   ]
  },
  {
   "cell_type": "code",
   "execution_count": 5,
   "metadata": {},
   "outputs": [
    {
     "data": {
      "text/plain": [
       "{'': ''}"
      ]
     },
     "execution_count": 5,
     "metadata": {},
     "output_type": "execute_result"
    }
   ],
   "source": [
    "dic_renomeacao = {'': ''}\n",
    "dic_renomeacao"
   ]
  },
  {
   "cell_type": "code",
   "execution_count": 6,
   "metadata": {},
   "outputs": [
    {
     "data": {
      "text/plain": [
       "'nome'"
      ]
     },
     "execution_count": 6,
     "metadata": {},
     "output_type": "execute_result"
    }
   ],
   "source": [
    "dic_renomeacao = {'name':'nome', 'age':'idade', 'income':'renda'}\n",
    "dic_renomeacao ['name']"
   ]
  },
  {
   "cell_type": "code",
   "execution_count": 7,
   "metadata": {},
   "outputs": [
    {
     "data": {
      "text/plain": [
       "'idade'"
      ]
     },
     "execution_count": 7,
     "metadata": {},
     "output_type": "execute_result"
    }
   ],
   "source": [
    "dic_renomeacao = {'name':'nome', 'age':'idade', 'income':'renda'}\n",
    "dic_renomeacao ['age']"
   ]
  },
  {
   "cell_type": "code",
   "execution_count": 8,
   "metadata": {},
   "outputs": [
    {
     "data": {
      "text/plain": [
       "'renda'"
      ]
     },
     "execution_count": 8,
     "metadata": {},
     "output_type": "execute_result"
    }
   ],
   "source": [
    "dic_renomeacao = {'name':'nome', 'age':'idade', 'income':'renda'}\n",
    "dic_renomeacao ['income']"
   ]
  },
  {
   "cell_type": "code",
   "execution_count": 9,
   "metadata": {},
   "outputs": [],
   "source": [
    "name = 'nome'\n",
    "age = 'idade'\n",
    "income = 'renda'"
   ]
  },
  {
   "cell_type": "code",
   "execution_count": 10,
   "metadata": {},
   "outputs": [
    {
     "data": {
      "text/plain": [
       "str"
      ]
     },
     "execution_count": 10,
     "metadata": {},
     "output_type": "execute_result"
    }
   ],
   "source": [
    "type(name)"
   ]
  },
  {
   "cell_type": "code",
   "execution_count": 11,
   "metadata": {},
   "outputs": [
    {
     "data": {
      "text/plain": [
       "str"
      ]
     },
     "execution_count": 11,
     "metadata": {},
     "output_type": "execute_result"
    }
   ],
   "source": [
    "type(age)"
   ]
  },
  {
   "cell_type": "code",
   "execution_count": 12,
   "metadata": {},
   "outputs": [
    {
     "data": {
      "text/plain": [
       "str"
      ]
     },
     "execution_count": 12,
     "metadata": {},
     "output_type": "execute_result"
    }
   ],
   "source": [
    "type(income)"
   ]
  },
  {
   "cell_type": "code",
   "execution_count": 13,
   "metadata": {},
   "outputs": [
    {
     "name": "stdout",
     "output_type": "stream",
     "text": [
      "nome\n",
      "idade\n",
      "renda\n"
     ]
    }
   ],
   "source": [
    "print(name)\n",
    "print(age)\n",
    "print(income)"
   ]
  },
  {
   "cell_type": "markdown",
   "metadata": {},
   "source": [
    "### 03 - É divisível?\n",
    "A sua tarefa é escrever um código que indique se um número ```N``` é divisível por um número P. Escreva um programa que faça essa verificação para quaisquer combinações de ```N``` e ```M``` e devolva uma mensagem indicativa no output."
   ]
  },
  {
   "cell_type": "code",
   "execution_count": 14,
   "metadata": {},
   "outputs": [
    {
     "name": "stdout",
     "output_type": "stream",
     "text": [
      "6\n"
     ]
    }
   ],
   "source": [
    "N = 42\n",
    "M = 7\n",
    "\n",
    "#Seu código\n",
    "P = 6\n",
    "if N / M:\n",
    "    M = N / P\n",
    "    print(P)"
   ]
  },
  {
   "cell_type": "code",
   "execution_count": 15,
   "metadata": {},
   "outputs": [
    {
     "name": "stdout",
     "output_type": "stream",
     "text": [
      "Informe o numero N: 42\n",
      "Informe o numero P: 6\n",
      "[N] é divisível por [P]\n"
     ]
    }
   ],
   "source": [
    "N = 42\n",
    "M = 7\n",
    "P = 6\n",
    "\n",
    "N = float(input('Informe o numero N: '))  \n",
    "P = float(input('Informe o numero P: '))\n",
    "    \n",
    "if P == 0:\n",
    "    print('Não há divisão por 0')\n",
    "    \n",
    "else:\n",
    "    if N % P == 0:\n",
    "        print(f'[N] é divisível por [P]')\n",
    "    else:\n",
    "        print(f'[N] não é divisível por [P]')"
   ]
  },
  {
   "cell_type": "code",
   "execution_count": 16,
   "metadata": {},
   "outputs": [
    {
     "name": "stdout",
     "output_type": "stream",
     "text": [
      "Informe o numero N: 42\n",
      "Informe o numero P: 5\n",
      "[N % M] não é igual a [P]\n"
     ]
    }
   ],
   "source": [
    "N = 42\n",
    "M = 7\n",
    "P = 5\n",
    "\n",
    "N = float(input('Informe o numero N: '))  \n",
    "P = float(input('Informe o numero P: '))\n",
    "    \n",
    "if P == 0:\n",
    "    print('Não há divisão por 0')\n",
    "    \n",
    "    \n",
    "elif P != 0:\n",
    "\n",
    "    if N % M == P:\n",
    "        print(f'[N % M] é igual a [P]')\n",
    "    else:\n",
    "        print(f'[N % M] não é igual a [P]')\n",
    "    \n",
    "else:\n",
    "    if N % P == 0:\n",
    "        print(f'[N] é divisível por [P]')\n",
    "    else:\n",
    "        print(f'[N] não é divisível por [P]')"
   ]
  },
  {
   "cell_type": "code",
   "execution_count": 17,
   "metadata": {},
   "outputs": [
    {
     "name": "stdout",
     "output_type": "stream",
     "text": [
      "Informe o numero N: 42\n",
      "Informe o numero P: 1\n",
      "[N] é divisível por [P]\n"
     ]
    }
   ],
   "source": [
    "N = 42\n",
    "P = 1\n",
    "\n",
    "N = float(input('Informe o numero N: '))  \n",
    "P = float(input('Informe o numero P: '))\n",
    "    \n",
    "if P == 0:\n",
    "    print('Não há divisão por 0')\n",
    "    \n",
    "else:\n",
    "    if N % P == 0:\n",
    "        print(f'[N] é divisível por [P]')\n",
    "    else:\n",
    "        print(f'[N] não é divisível por [P]')"
   ]
  },
  {
   "cell_type": "code",
   "execution_count": 18,
   "metadata": {},
   "outputs": [
    {
     "name": "stdout",
     "output_type": "stream",
     "text": [
      "Informe o numero N: 42\n",
      "Informe o numero P: 2\n",
      "[N] é divisível por [P]\n"
     ]
    }
   ],
   "source": [
    "N = 42\n",
    "P = 2\n",
    "\n",
    "N = float(input('Informe o numero N: '))  \n",
    "P = float(input('Informe o numero P: '))\n",
    "    \n",
    "if P == 0:\n",
    "    print('Não há divisão por 0')\n",
    "    \n",
    "else:\n",
    "    if N % P == 0:\n",
    "        print(f'[N] é divisível por [P]')\n",
    "    else:\n",
    "        print(f'[N] não é divisível por [P]')"
   ]
  },
  {
   "cell_type": "code",
   "execution_count": 19,
   "metadata": {},
   "outputs": [
    {
     "name": "stdout",
     "output_type": "stream",
     "text": [
      "Informe o numero N: 42\n",
      "Informe o numero P: 42\n",
      "[N] é divisível por [P]\n"
     ]
    }
   ],
   "source": [
    "N = 42\n",
    "P = 42\n",
    "\n",
    "N = float(input('Informe o numero N: '))  \n",
    "P = float(input('Informe o numero P: '))\n",
    "    \n",
    "if P == 0:\n",
    "    print('Não há divisão por 0')\n",
    "    \n",
    "else:\n",
    "    if N % P == 0:\n",
    "        print(f'[N] é divisível por [P]')\n",
    "    else:\n",
    "        print(f'[N] não é divisível por [P]')"
   ]
  },
  {
   "cell_type": "code",
   "execution_count": 20,
   "metadata": {},
   "outputs": [
    {
     "name": "stdout",
     "output_type": "stream",
     "text": [
      "Informe o numero N: 42\n",
      "Informe o numero P: 3\n",
      "[N] é divisível por [P]\n"
     ]
    }
   ],
   "source": [
    "N = 42\n",
    "P = 3\n",
    "\n",
    "N = float(input('Informe o numero N: '))  \n",
    "P = float(input('Informe o numero P: '))\n",
    "    \n",
    "if P == 0:\n",
    "    print('Não há divisão por 0')\n",
    "    \n",
    "else:\n",
    "    if N % P == 0:\n",
    "        print(f'[N] é divisível por [P]')\n",
    "    else:\n",
    "        print(f'[N] não é divisível por [P]')"
   ]
  },
  {
   "cell_type": "code",
   "execution_count": 21,
   "metadata": {},
   "outputs": [
    {
     "name": "stdout",
     "output_type": "stream",
     "text": [
      "Informe o numero N: 42\n",
      "Informe o numero P: 4\n",
      "[N] não é divisível por [P]\n"
     ]
    }
   ],
   "source": [
    "N = 42\n",
    "P = 4\n",
    "\n",
    "N = float(input('Informe o numero N: '))  \n",
    "P = float(input('Informe o numero P: '))\n",
    "    \n",
    "if P == 0:\n",
    "    print('Não há divisão por 0')\n",
    "    \n",
    "else:\n",
    "    if N % P == 0:\n",
    "        print(f'[N] é divisível por [P]')\n",
    "    else:\n",
    "        print(f'[N] não é divisível por [P]')"
   ]
  },
  {
   "cell_type": "markdown",
   "metadata": {},
   "source": [
    "### 04 - Números primos\n",
    "> Um número **N** é primo se e somente se é divisível por 1, -1, por **N** e por -**N**.  \n",
    "\n",
    "Escreva um script que verifica se ```N``` é um número primo, verificando se ```N``` é divisível por todos os números de ```1``` a ```N-1```. Você vai precisar usar alguma ferramenta de *loop* que você aprendeu para isto. No final, devolva uma mensagem no output indicando se o número é primo ou não."
   ]
  },
  {
   "cell_type": "code",
   "execution_count": 23,
   "metadata": {
    "scrolled": true
   },
   "outputs": [
    {
     "name": "stdout",
     "output_type": "stream",
     "text": [
      "Verificar se N é um numero primo: 47\n",
      "N é um número primo\n"
     ]
    }
   ],
   "source": [
    "N = 47\n",
    "\n",
    "# seu código abaixo\n",
    "n = int(input(\"Verificar se N é um numero primo: \"))\n",
    "mult=0\n",
    "\n",
    "for count in range(2,n):\n",
    "    if (n % count == 0):\n",
    "        print(\"Multiplo de\", count)\n",
    "        mult += 1\n",
    "        \n",
    "if(mult==0):\n",
    "    print(\"N é um número primo\")\n",
    "else:\n",
    "    print(\"Tem\", mult, \" múltiplos acima 2 e abaixo de\",n)"
   ]
  },
  {
   "cell_type": "markdown",
   "metadata": {},
   "source": [
    "### 05 - Desafio\n",
    "O algorítmo do exercício anterior não é o mais eficiente. O que você pode fazer para deixá-lo mais eficiente? Ou seja, executar menos comparações, portanto consumir menos tempo.\n",
    "1. Será que precisamos correr o loop até o final sempre?\n",
    "2. Será que precisamos mesmo verificar **todos** os números?\n",
    "3. Será que precisamos ir até N-1?\n",
    "\n",
    "Essas perguntas levam ao tipo de pensamento voltado a deixar um algoritmo mais eficiente. Veja se você consegue melhorar o seu."
   ]
  },
  {
   "cell_type": "code",
   "execution_count": 24,
   "metadata": {},
   "outputs": [
    {
     "name": "stdout",
     "output_type": "stream",
     "text": [
      "98 não é número primo\n"
     ]
    }
   ],
   "source": [
    "N = 98\n",
    "\n",
    "# seu código abaixo\n",
    "if N > 1:\n",
    "    \n",
    "    for i in range(2, N):\n",
    "        \n",
    "        if (N % i) == 0:\n",
    "            print(N, \"não é número primo\")\n",
    "            break\n",
    "    else:\n",
    "        print(N, \"é um número primo\")\n",
    "        \n",
    "else:\n",
    "    print(N, \"não é um número primo\")"
   ]
  },
  {
   "cell_type": "markdown",
   "metadata": {},
   "source": [
    "### 06 - Peso ideal 1\n",
    "O IMC (índice de massa corpórea) é um indicador de saúde mais bem aceito que o peso. Ele é calculado como:\n",
    "\n",
    "$$ IMC = \\dfrac{peso}{altura^2}$$\n",
    "\n",
    "Segundo a OMS, valores *normais* são entre 18.5 e 24.9.\n",
    "\n",
    "Sua tarefa é encontrar o ponto médio dessa faixa."
   ]
  },
  {
   "cell_type": "code",
   "execution_count": 26,
   "metadata": {},
   "outputs": [
    {
     "data": {
      "text/plain": [
       "21.7"
      ]
     },
     "execution_count": 26,
     "metadata": {},
     "output_type": "execute_result"
    }
   ],
   "source": [
    "imc_ideal = (18.5 + 24.9) / 2 \n",
    "imc_ideal"
   ]
  },
  {
   "cell_type": "markdown",
   "metadata": {},
   "source": [
    "### 07 - Peso ideal 2\n",
    "Recebendo um valor de altura, encontre o peso '*ideal*' dessa pessoa, que fornece o IMC encontrado acima"
   ]
  },
  {
   "cell_type": "code",
   "execution_count": 27,
   "metadata": {},
   "outputs": [
    {
     "data": {
      "text/plain": [
       "62.712999999999994"
      ]
     },
     "execution_count": 27,
     "metadata": {},
     "output_type": "execute_result"
    }
   ],
   "source": [
    "altura = 1.70\n",
    "\n",
    "# Seu código\n",
    "peso_ideal = (1.70 * 1.70) * 21.7\n",
    "peso_ideal"
   ]
  },
  {
   "cell_type": "markdown",
   "metadata": {},
   "source": [
    "### 08 - Peso ideal 3\n",
    "Dada uma lista contendo as alturas de pacientes, crie uma nova lista que contenha o peso '*ideal*' (que fornece o IMC calculado em **Peso ideal 1**) desses pacientes."
   ]
  },
  {
   "cell_type": "code",
   "execution_count": 29,
   "metadata": {},
   "outputs": [
    {
     "name": "stdout",
     "output_type": "stream",
     "text": [
      "[82.51424999999999, 91.19425, 62.712999999999994, 59.07824999999999]\n"
     ]
    }
   ],
   "source": [
    "lista_alturas = [1.95, 2.05, 1.70, 1.65]\n",
    "lista_peso_ideal = []\n",
    "\n",
    "# seu código\n",
    "\n",
    "for altura in lista_alturas:\n",
    "    lista_peso_ideal.append(imc_ideal * altura ** 2)\n",
    "    \n",
    "print(lista_peso_ideal)"
   ]
  },
  {
   "cell_type": "markdown",
   "metadata": {},
   "source": [
    "### 09 - Peso ideal 4\n",
    "Dada uma lista de tuplas - cada elemento da lista é uma tupla contendo altura e peso de um paciente - crie uma nova lista com o IMC desses pacientes."
   ]
  },
  {
   "cell_type": "code",
   "execution_count": 24,
   "metadata": {
    "scrolled": true
   },
   "outputs": [
    {
     "name": "stdout",
     "output_type": "stream",
     "text": [
      "[27.777777777777775, 27.548209366391188, 19.188070502453332]\n"
     ]
    }
   ],
   "source": [
    "altura_peso = [(1.80, 90), (1.65, 75), (1.91, 70)]\n",
    "imc = []\n",
    "\n",
    "# seu código\n",
    "\n",
    "for pessoa in altura_peso:\n",
    "    imc.append(pessoa[1]/pessoa[0] ** 2)\n",
    "    \n",
    "print(imc)"
   ]
  },
  {
   "cell_type": "markdown",
   "metadata": {},
   "source": [
    "### 10 - Peso ideal 5\n",
    "Dada uma lista de **listas** - cada elemento da lista é uma **lista** contendo altura e peso de um paciente, adicione mais um elemento à lista de cada paciente contendo o IMC do paciente. Verifique também se é 'baixo', 'normal' ou 'alto' segundo os padrões da OMS em que normal é entre 18.5 e 24.9.\n",
    "\n",
    "Reflexão: por que no problema anterior temos que criar uma nova lista, e não podemos adicionar os dados de cada indivíduo à tupla?"
   ]
  },
  {
   "cell_type": "code",
   "execution_count": 35,
   "metadata": {},
   "outputs": [
    {
     "ename": "TypeError",
     "evalue": "'<' not supported between instances of 'list' and 'float'",
     "output_type": "error",
     "traceback": [
      "\u001b[1;31m---------------------------------------------------------------------------\u001b[0m",
      "\u001b[1;31mTypeError\u001b[0m                                 Traceback (most recent call last)",
      "\u001b[1;32m~\\AppData\\Local\\Temp/ipykernel_9528/2637863960.py\u001b[0m in \u001b[0;36m<module>\u001b[1;34m\u001b[0m\n\u001b[0;32m      6\u001b[0m     \u001b[0mimc\u001b[0m\u001b[1;33m.\u001b[0m\u001b[0mappend\u001b[0m\u001b[1;33m(\u001b[0m\u001b[0mpessoa\u001b[0m\u001b[1;33m[\u001b[0m\u001b[1;36m1\u001b[0m\u001b[1;33m]\u001b[0m\u001b[1;33m/\u001b[0m\u001b[0mpessoa\u001b[0m\u001b[1;33m[\u001b[0m\u001b[1;36m0\u001b[0m\u001b[1;33m]\u001b[0m \u001b[1;33m**\u001b[0m \u001b[1;36m2\u001b[0m\u001b[1;33m)\u001b[0m\u001b[1;33m\u001b[0m\u001b[1;33m\u001b[0m\u001b[0m\n\u001b[0;32m      7\u001b[0m \u001b[1;33m\u001b[0m\u001b[0m\n\u001b[1;32m----> 8\u001b[1;33m     \u001b[1;32mif\u001b[0m \u001b[0mimc\u001b[0m \u001b[1;33m<\u001b[0m \u001b[1;36m18.5\u001b[0m\u001b[1;33m:\u001b[0m\u001b[1;33m\u001b[0m\u001b[1;33m\u001b[0m\u001b[0m\n\u001b[0m\u001b[0;32m      9\u001b[0m         \u001b[0mprint\u001b[0m \u001b[1;33m=\u001b[0m \u001b[1;34m'baixo'\u001b[0m\u001b[1;33m\u001b[0m\u001b[1;33m\u001b[0m\u001b[0m\n\u001b[0;32m     10\u001b[0m     \u001b[1;32melif\u001b[0m \u001b[0mimc\u001b[0m \u001b[1;33m>\u001b[0m \u001b[1;36m24.9\u001b[0m\u001b[1;33m:\u001b[0m\u001b[1;33m\u001b[0m\u001b[1;33m\u001b[0m\u001b[0m\n",
      "\u001b[1;31mTypeError\u001b[0m: '<' not supported between instances of 'list' and 'float'"
     ]
    }
   ],
   "source": [
    "altura_peso = [[1.80, 90], [1.65, 75], [1.91, 70]]\n",
    "imc = []\n",
    "\n",
    "# seu código\n",
    "for pessoa in altura_peso:\n",
    "    imc.append(pessoa[1]/pessoa[0] ** 2)\n",
    "    \n",
    "    if imc < 18.5:\n",
    "        print = 'baixo'\n",
    "    elif imc > 24.9:\n",
    "        print = 'alto'\n",
    "    else:\n",
    "        print = 'normal'"
   ]
  },
  {
   "cell_type": "code",
   "execution_count": 42,
   "metadata": {},
   "outputs": [],
   "source": [
    "altura_peso = [[1.80, 90], [1.65, 75], [1.91, 70]]\n",
    "imc = []\n",
    "\n",
    "# seu código\n",
    "def calcula_IMC(altura_peso):\n",
    "    imc.append(pessoa[1]/pessoa[0] ** 2)\n",
    "    if imc < 18.5:\n",
    "        print('baixo')\n",
    "    elif imc < 24.9:\n",
    "        print('alto')\n",
    "    else:\n",
    "        print('normal')\n",
    "    return imc"
   ]
  },
  {
   "cell_type": "code",
   "execution_count": null,
   "metadata": {},
   "outputs": [],
   "source": []
  }
 ],
 "metadata": {
  "kernelspec": {
   "display_name": "Python 3 (ipykernel)",
   "language": "python",
   "name": "python3"
  },
  "language_info": {
   "codemirror_mode": {
    "name": "ipython",
    "version": 3
   },
   "file_extension": ".py",
   "mimetype": "text/x-python",
   "name": "python",
   "nbconvert_exporter": "python",
   "pygments_lexer": "ipython3",
   "version": "3.9.7"
  }
 },
 "nbformat": 4,
 "nbformat_minor": 4
}
